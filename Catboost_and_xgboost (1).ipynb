{
 "cells": [
  {
   "cell_type": "code",
   "execution_count": 2,
   "metadata": {},
   "outputs": [],
   "source": [
    "from wrangle import wrangle\n",
    "import pandas as pd\n",
    "from sklearn.model_selection import cross_val_score\n",
    "from sklearn.metrics import roc_auc_score\n",
    "from xgboost import XGBClassifier\n",
    "from sklearn.model_selection import train_test_split\n",
    "import category_encoders as ce\n",
    "from sklearn.model_selection import cross_val_score\n",
    "from sklearn.ensemble import GradientBoostingClassifier\n",
    "from catboost import CatBoostClassifier\n",
    "%config InlineBackend.figure_format='retina'"
   ]
  },
  {
   "cell_type": "code",
   "execution_count": 3,
   "metadata": {},
   "outputs": [
    {
     "data": {
      "text/plain": [
       "((1309457, 103), (26724, 103), (1309457,))"
      ]
     },
     "execution_count": 3,
     "metadata": {},
     "output_type": "execute_result"
    }
   ],
   "source": [
    "X_train = pd.read_csv('data/train_features.csv')\n",
    "X_test = pd.read_csv('data/test_features.csv')\n",
    "y_train = pd.read_csv('data/train_labels.csv')['charged_off']\n",
    "sample_submission = pd.read_csv('data/sample_submission.csv')\n",
    "\n",
    "X_train.shape, X_test.shape, y_train.shape"
   ]
  },
  {
   "cell_type": "code",
   "execution_count": 4,
   "metadata": {},
   "outputs": [
    {
     "data": {
      "text/plain": [
       "((40000, 103), (40000, 103), (40000,), (40000,))"
      ]
     },
     "execution_count": 4,
     "metadata": {},
     "output_type": "execute_result"
    }
   ],
   "source": [
    "X_train, X_val, y_train, y_val = train_test_split(\n",
    "    X_train, y_train, train_size=40000, test_size=40000,\n",
    "    random_state=42, stratify=y_train)\n",
    "\n",
    "X_train.shape, X_val.shape, y_train.shape, y_val.shape"
   ]
  },
  {
   "cell_type": "code",
   "execution_count": 5,
   "metadata": {},
   "outputs": [
    {
     "data": {
      "text/plain": [
       "((40000, 98), (40000, 98))"
      ]
     },
     "execution_count": 5,
     "metadata": {},
     "output_type": "execute_result"
    }
   ],
   "source": [
    "X_train = wrangle(X_train)\n",
    "X_val = wrangle(X_val)\n",
    "X_train.shape, X_val.shape"
   ]
  },
  {
   "cell_type": "code",
   "execution_count": 6,
   "metadata": {},
   "outputs": [
    {
     "name": "stdout",
     "output_type": "stream",
     "text": [
      "Validation ROC AUC: 0.7040768332533571\n"
     ]
    }
   ],
   "source": [
    "# Catboost\n",
    "\n",
    "cat_features = list(X_train.select_dtypes('object').columns)\n",
    "\n",
    "ct = CatBoostClassifier(iterations=10,depth=6,learning_rate=1,\n",
    "                        nan_mode='Max',thread_count=-1,\n",
    "                        cat_features=cat_features,verbose=False,\n",
    "                        l2_leaf_reg=1)\n",
    "\n",
    "ct.fit(X_train,y_train)\n",
    "\n",
    "y_pred_proba = ct.predict_proba(X_val)[:,1]\n",
    "print('Validation ROC AUC:', roc_auc_score(y_val, y_pred_proba))"
   ]
  },
  {
   "cell_type": "code",
   "execution_count": 16,
   "metadata": {},
   "outputs": [
    {
     "name": "stdout",
     "output_type": "stream",
     "text": [
      "Validation ROC AUC: 0.6055037805328715\n"
     ]
    }
   ],
   "source": [
    "# XGBoost\n",
    "\n",
    "X_train_encoded = ce.OrdinalEncoder().fit_transform(X_train)\n",
    "X_val_encoded = ce.OrdinalEncoder().fit_transform(X_val)\n",
    "\n",
    "xgb = XGBClassifier(learning_rate=1,max_depth=6,n_estimators=15, \n",
    "                    nthread=-1)\n",
    "\n",
    "xgb.fit(X_train_encoded, y_train)\n",
    "y_pred_proba = xgb.predict_proba(X_val_encoded)[:,1]\n",
    "print('Validation ROC AUC:', roc_auc_score(y_val, y_pred_proba))"
   ]
  },
  {
   "cell_type": "code",
   "execution_count": null,
   "metadata": {},
   "outputs": [],
   "source": []
  }
 ],
 "metadata": {
  "kernelspec": {
   "display_name": "Python 3",
   "language": "python",
   "name": "python3"
  },
  "language_info": {
   "codemirror_mode": {
    "name": "ipython",
    "version": 3
   },
   "file_extension": ".py",
   "mimetype": "text/x-python",
   "name": "python",
   "nbconvert_exporter": "python",
   "pygments_lexer": "ipython3",
   "version": "3.7.3"
  }
 },
 "nbformat": 4,
 "nbformat_minor": 2
}
